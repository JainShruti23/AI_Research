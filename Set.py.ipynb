{
 "cells": [
  {
   "cell_type": "markdown",
   "id": "fcf3ca28",
   "metadata": {},
   "source": [
    "# Set\n",
    "Sets are used to store multiple items in a single variable.A set is a collection which is both unordered and unindexed and do not allow duplicate values."
   ]
  },
  {
   "cell_type": "code",
   "execution_count": 4,
   "id": "59a0601e",
   "metadata": {},
   "outputs": [
    {
     "ename": "AttributeError",
     "evalue": "'set' object has no attribute 'print'",
     "output_type": "error",
     "traceback": [
      "\u001b[1;31m---------------------------------------------------------------------------\u001b[0m",
      "\u001b[1;31mAttributeError\u001b[0m                            Traceback (most recent call last)",
      "\u001b[1;32mC:\\Users\\SHRUTI~1\\AppData\\Local\\Temp/ipykernel_1484/306110061.py\u001b[0m in \u001b[0;36m<module>\u001b[1;34m\u001b[0m\n\u001b[0;32m      1\u001b[0m \u001b[0mset1\u001b[0m \u001b[1;33m=\u001b[0m \u001b[1;33m{\u001b[0m\u001b[1;34m'Apple'\u001b[0m\u001b[1;33m,\u001b[0m\u001b[1;34m'Banana'\u001b[0m\u001b[1;33m,\u001b[0m\u001b[1;34m'Mango'\u001b[0m\u001b[1;33m,\u001b[0m\u001b[1;34m'Pineapple'\u001b[0m\u001b[1;33m,\u001b[0m\u001b[1;36m3\u001b[0m\u001b[1;33m,\u001b[0m\u001b[1;36m4\u001b[0m\u001b[1;33m,\u001b[0m\u001b[1;36m5\u001b[0m\u001b[1;33m,\u001b[0m\u001b[1;36m7\u001b[0m\u001b[1;33m,\u001b[0m\u001b[1;32mTrue\u001b[0m\u001b[1;33m}\u001b[0m\u001b[1;33m\u001b[0m\u001b[1;33m\u001b[0m\u001b[0m\n\u001b[1;32m----> 2\u001b[1;33m \u001b[0mset1\u001b[0m\u001b[1;33m.\u001b[0m\u001b[0mprint\u001b[0m\u001b[1;33m(\u001b[0m\u001b[1;36m1\u001b[0m\u001b[1;33m)\u001b[0m\u001b[1;33m\u001b[0m\u001b[1;33m\u001b[0m\u001b[0m\n\u001b[0m",
      "\u001b[1;31mAttributeError\u001b[0m: 'set' object has no attribute 'print'"
     ]
    }
   ],
   "source": [
    "set1 = {'Apple','Banana','Mango','Pineapple',3,4,5,7,True}\n"
   ]
  },
  {
   "cell_type": "code",
   "execution_count": 2,
   "id": "cf04fb47",
   "metadata": {},
   "outputs": [
    {
     "data": {
      "text/plain": [
       "9"
      ]
     },
     "execution_count": 2,
     "metadata": {},
     "output_type": "execute_result"
    }
   ],
   "source": [
    "len(set1)"
   ]
  },
  {
   "cell_type": "markdown",
   "id": "d99bb80b",
   "metadata": {},
   "source": [
    "### Access Items"
   ]
  },
  {
   "cell_type": "code",
   "execution_count": 3,
   "id": "3a434798",
   "metadata": {},
   "outputs": [
    {
     "name": "stdout",
     "output_type": "stream",
     "text": [
      "True\n",
      "3\n",
      "4\n",
      "5\n",
      "Apple\n",
      "7\n",
      "Pineapple\n",
      "Mango\n",
      "Banana\n"
     ]
    }
   ],
   "source": [
    "for item in set1:\n",
    "    print(item)"
   ]
  },
  {
   "cell_type": "markdown",
   "id": "1c6bb107",
   "metadata": {},
   "source": [
    "### Add Items"
   ]
  },
  {
   "cell_type": "code",
   "execution_count": 4,
   "id": "1e6c83ab",
   "metadata": {},
   "outputs": [],
   "source": [
    "set1.add(\"Orange\")      #Takes one argument"
   ]
  },
  {
   "cell_type": "code",
   "execution_count": 5,
   "id": "280bc872",
   "metadata": {},
   "outputs": [
    {
     "data": {
      "text/plain": [
       "{2,\n",
       " 3,\n",
       " 4,\n",
       " 5,\n",
       " 6,\n",
       " 7,\n",
       " 8,\n",
       " 9,\n",
       " 'Apple',\n",
       " 'Banana',\n",
       " 'Mango',\n",
       " 'Orange',\n",
       " 'Pineapple',\n",
       " True}"
      ]
     },
     "execution_count": 5,
     "metadata": {},
     "output_type": "execute_result"
    }
   ],
   "source": [
    "set2 = {1,2,3,4,5,6,7,8,9}\n",
    "set1.update(set2)     #updating values in set1 except the repeated one's\n",
    "set1                  #1=True"
   ]
  },
  {
   "cell_type": "code",
   "execution_count": 6,
   "id": "231606b7",
   "metadata": {},
   "outputs": [
    {
     "data": {
      "text/plain": [
       "{2,\n",
       " 3,\n",
       " 4,\n",
       " 5,\n",
       " 6,\n",
       " 7,\n",
       " 8,\n",
       " 9,\n",
       " 'Apple',\n",
       " 'Banana',\n",
       " 'Mango',\n",
       " 'Melon',\n",
       " 'Orange',\n",
       " 'Pineapple',\n",
       " True,\n",
       " 'Watermelon'}"
      ]
     },
     "execution_count": 6,
     "metadata": {},
     "output_type": "execute_result"
    }
   ],
   "source": [
    "set2= {'Watermelon','Banana','Melon'}\n",
    "set1.update(set2)           #add items from another set\n",
    "set1"
   ]
  },
  {
   "cell_type": "markdown",
   "id": "7fc8dd02",
   "metadata": {},
   "source": [
    "### Join Two Sets"
   ]
  },
  {
   "cell_type": "code",
   "execution_count": 7,
   "id": "eaa6bf23",
   "metadata": {},
   "outputs": [
    {
     "name": "stdout",
     "output_type": "stream",
     "text": [
      "{1, 2, 'c', 'b', 'a', 3}\n",
      "{1, 2, 'c', 'b', 'a', 3}\n"
     ]
    }
   ],
   "source": [
    "set3 ={'a','b','c'}\n",
    "set4 = {1,2,3}\n",
    "print(set3.union(set4))        #returns a new set containing all items from both\n",
    "print(set3|set4)                "
   ]
  },
  {
   "cell_type": "markdown",
   "id": "0aab0254",
   "metadata": {},
   "source": [
    "### Remove Item"
   ]
  },
  {
   "cell_type": "code",
   "execution_count": 8,
   "id": "ce72b3c3",
   "metadata": {
    "scrolled": true
   },
   "outputs": [
    {
     "data": {
      "text/plain": [
       "{2,\n",
       " 3,\n",
       " 4,\n",
       " 5,\n",
       " 6,\n",
       " 7,\n",
       " 8,\n",
       " 9,\n",
       " 'Apple',\n",
       " 'Banana',\n",
       " 'Mango',\n",
       " 'Melon',\n",
       " 'Orange',\n",
       " 'Pineapple',\n",
       " 'Watermelon'}"
      ]
     },
     "execution_count": 8,
     "metadata": {},
     "output_type": "execute_result"
    }
   ],
   "source": [
    "set1.remove(True)      #Remove specific item\n",
    "set1"
   ]
  },
  {
   "cell_type": "code",
   "execution_count": 9,
   "id": "c5aa06f2",
   "metadata": {},
   "outputs": [
    {
     "data": {
      "text/plain": [
       "{2,\n",
       " 3,\n",
       " 4,\n",
       " 5,\n",
       " 6,\n",
       " 7,\n",
       " 8,\n",
       " 9,\n",
       " 'Apple',\n",
       " 'Banana',\n",
       " 'Mango',\n",
       " 'Melon',\n",
       " 'Orange',\n",
       " 'Pineapple',\n",
       " 'Watermelon'}"
      ]
     },
     "execution_count": 9,
     "metadata": {},
     "output_type": "execute_result"
    }
   ],
   "source": [
    "set1.discard(True)       #Although item to remove does not exist, discard() will NOT raise an error.\n",
    "set1"
   ]
  },
  {
   "cell_type": "code",
   "execution_count": 10,
   "id": "c85c2a95",
   "metadata": {},
   "outputs": [
    {
     "data": {
      "text/plain": [
       "2"
      ]
     },
     "execution_count": 10,
     "metadata": {},
     "output_type": "execute_result"
    }
   ],
   "source": [
    "set1.pop()        #removes last item, but as set are unordered random item is removed"
   ]
  },
  {
   "cell_type": "code",
   "execution_count": 11,
   "id": "b3eb0bd4",
   "metadata": {},
   "outputs": [
    {
     "data": {
      "text/plain": [
       "set()"
      ]
     },
     "execution_count": 11,
     "metadata": {},
     "output_type": "execute_result"
    }
   ],
   "source": [
    "set2.clear()         #empties the set\n",
    "set2"
   ]
  },
  {
   "cell_type": "code",
   "execution_count": 12,
   "id": "2a9ece9d",
   "metadata": {},
   "outputs": [],
   "source": [
    "del set2       #delete the set\n",
    "# print(set2)    ---> NameError: name 'set2' is not defined"
   ]
  },
  {
   "cell_type": "markdown",
   "id": "7eea02b1",
   "metadata": {},
   "source": [
    "### Keep only the duplicates"
   ]
  },
  {
   "cell_type": "code",
   "execution_count": 13,
   "id": "c862b2bc",
   "metadata": {},
   "outputs": [
    {
     "data": {
      "text/plain": [
       "{3}"
      ]
     },
     "execution_count": 13,
     "metadata": {},
     "output_type": "execute_result"
    }
   ],
   "source": [
    "set5= set4.intersection(set1)     #returns a set than contains the intersection values\n",
    "set5 "
   ]
  },
  {
   "cell_type": "code",
   "execution_count": 14,
   "id": "3322d640",
   "metadata": {},
   "outputs": [
    {
     "data": {
      "text/plain": [
       "{3}"
      ]
     },
     "execution_count": 14,
     "metadata": {},
     "output_type": "execute_result"
    }
   ],
   "source": [
    "#Also for intersection\n",
    "set5 & set4"
   ]
  },
  {
   "cell_type": "code",
   "execution_count": 15,
   "id": "57f328d9",
   "metadata": {},
   "outputs": [
    {
     "data": {
      "text/plain": [
       "{3}"
      ]
     },
     "execution_count": 15,
     "metadata": {},
     "output_type": "execute_result"
    }
   ],
   "source": [
    "#Multi-intersection\n",
    "set1 & set4 & set5"
   ]
  },
  {
   "cell_type": "code",
   "execution_count": 16,
   "id": "dc387c63",
   "metadata": {},
   "outputs": [
    {
     "data": {
      "text/plain": [
       "{3}"
      ]
     },
     "execution_count": 16,
     "metadata": {},
     "output_type": "execute_result"
    }
   ],
   "source": [
    "set4.intersection_update(set1)        #update the intersection value in the calling set\n",
    "set4          # since 1 and 2 are not present in set1 only {3} is left in set4"
   ]
  },
  {
   "cell_type": "markdown",
   "id": "460dc2da",
   "metadata": {},
   "source": [
    "### Non Duplicates"
   ]
  },
  {
   "cell_type": "code",
   "execution_count": 17,
   "id": "6e36f560",
   "metadata": {},
   "outputs": [
    {
     "name": "stdout",
     "output_type": "stream",
     "text": [
      "{'Kiwi', 3, 4, 5, 6, 7, 8, 9, 'Watermelon', 'Banana', 'Melon', 'Pear', 'Pineapple'}\n"
     ]
    }
   ],
   "source": [
    "set5 = {\"Orange\", \"Apple\",'Kiwi','Pear','Mango'}\n",
    "print(set1.symmetric_difference(set5))    #Returns new set of non duplicate values of both sets"
   ]
  },
  {
   "cell_type": "code",
   "execution_count": 18,
   "id": "3f0ace19",
   "metadata": {},
   "outputs": [],
   "source": [
    "set1.symmetric_difference_update(set5)       #updates values in set1"
   ]
  },
  {
   "cell_type": "code",
   "execution_count": 19,
   "id": "709dba32",
   "metadata": {},
   "outputs": [
    {
     "data": {
      "text/plain": [
       "{3,\n",
       " 4,\n",
       " 5,\n",
       " 6,\n",
       " 7,\n",
       " 8,\n",
       " 9,\n",
       " 'Banana',\n",
       " 'Kiwi',\n",
       " 'Melon',\n",
       " 'Pear',\n",
       " 'Pineapple',\n",
       " 'Watermelon'}"
      ]
     },
     "execution_count": 19,
     "metadata": {},
     "output_type": "execute_result"
    }
   ],
   "source": [
    "set1"
   ]
  },
  {
   "cell_type": "markdown",
   "id": "5739b466",
   "metadata": {},
   "source": [
    "### Other Methods"
   ]
  },
  {
   "cell_type": "code",
   "execution_count": 20,
   "id": "b761e21a",
   "metadata": {},
   "outputs": [
    {
     "data": {
      "text/plain": [
       "True"
      ]
     },
     "execution_count": 20,
     "metadata": {},
     "output_type": "execute_result"
    }
   ],
   "source": [
    "set1.isdisjoint(set3)         #returns boolean value check if they have intersection or not"
   ]
  },
  {
   "cell_type": "code",
   "execution_count": 21,
   "id": "3805b78d",
   "metadata": {},
   "outputs": [
    {
     "data": {
      "text/plain": [
       "True"
      ]
     },
     "execution_count": 21,
     "metadata": {},
     "output_type": "execute_result"
    }
   ],
   "source": [
    "set4.issubset(set1)    #check if its a subset"
   ]
  },
  {
   "cell_type": "code",
   "execution_count": 22,
   "id": "91bc7e8b",
   "metadata": {},
   "outputs": [
    {
     "data": {
      "text/plain": [
       "True"
      ]
     },
     "execution_count": 22,
     "metadata": {},
     "output_type": "execute_result"
    }
   ],
   "source": [
    "set1.issuperset(set4)   #Check if set1 is superset of set4"
   ]
  }
 ],
 "metadata": {
  "kernelspec": {
   "display_name": "Python 3 (ipykernel)",
   "language": "python",
   "name": "python3"
  },
  "language_info": {
   "codemirror_mode": {
    "name": "ipython",
    "version": 3
   },
   "file_extension": ".py",
   "mimetype": "text/x-python",
   "name": "python",
   "nbconvert_exporter": "python",
   "pygments_lexer": "ipython3",
   "version": "3.9.5"
  }
 },
 "nbformat": 4,
 "nbformat_minor": 5
}
