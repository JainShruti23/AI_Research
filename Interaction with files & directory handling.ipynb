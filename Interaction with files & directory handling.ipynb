{
 "cells": [
  {
   "cell_type": "markdown",
   "id": "f7d68231",
   "metadata": {},
   "source": [
    "# File Handling in Python"
   ]
  },
  {
   "cell_type": "raw",
   "id": "ffc1e8a0",
   "metadata": {},
   "source": [
    "### Working of open() function   \n",
    "open ( ) will return a file object. open() is a built-in function\n",
    "\n",
    "Syntax: open(file, mode='r', buffering=-1, encoding=None, errors=None, newline=None, closefd=True, opener=None)\n",
    "\n",
    "'r'    open for reading (default)\n",
    "\n",
    "'w'    open for writing, truncating the file first\n",
    "\n",
    "'x'    open for exclusive creation, failing if the file already exists\n",
    "\n",
    "'a'    open for writing, appending to the end of the file if it exists\n",
    "\n",
    "'b'    binary mode\n",
    "\n",
    "'t'    text mode (default)"
   ]
  },
  {
   "cell_type": "code",
   "execution_count": 8,
   "id": "7f6c8254",
   "metadata": {},
   "outputs": [
    {
     "name": "stdout",
     "output_type": "stream",
     "text": [
      "This line is written using write function, existing data will be deleted\n",
      "('the answer', 42)\n"
     ]
    }
   ],
   "source": [
    "f = open('xyz.txt',encoding='utf-8')\n",
    "print(f.read())\n",
    "f.close()"
   ]
  },
  {
   "cell_type": "code",
   "execution_count": 5,
   "id": "d1f6ad7e",
   "metadata": {},
   "outputs": [
    {
     "name": "stdout",
     "output_type": "stream",
     "text": [
      "This line is written using write function, existing data will be deleted\n",
      "('the answer', 42)\n",
      "True\n"
     ]
    }
   ],
   "source": [
    "with open('xyz.txt') as f:\n",
    "    read_data = f.read()\n",
    "    print(read_data,end='')\n",
    "    print(f.read())\n",
    "# We can check that the file has been automatically closed.\n",
    "print(f.closed)"
   ]
  },
  {
   "cell_type": "code",
   "execution_count": 2,
   "id": "682f5c99",
   "metadata": {},
   "outputs": [
    {
     "name": "stdout",
     "output_type": "stream",
     "text": [
      "This line is written using write function, existing data will be deleted\n",
      "('the answer', 42)"
     ]
    }
   ],
   "source": [
    "with open('xyz.txt') as f:\n",
    "    for line in f:\n",
    "        print(line, end='')"
   ]
  },
  {
   "cell_type": "code",
   "execution_count": 3,
   "id": "784ea617",
   "metadata": {
    "scrolled": true
   },
   "outputs": [
    {
     "name": "stdout",
     "output_type": "stream",
     "text": [
      "['This line is written using write function, existing data will be deleted\\n', \"('the answer', 42)\"]\n"
     ]
    }
   ],
   "source": [
    "with open('xyz.txt') as f:\n",
    "    print(f.readlines())        #Read lines in a list\n",
    "    #print(f.readline())"
   ]
  },
  {
   "cell_type": "code",
   "execution_count": 9,
   "id": "3c02623f",
   "metadata": {},
   "outputs": [],
   "source": [
    "with open('xyz.txt','w',buffering=-1) as f:\n",
    "    f.write('This line is written using write function, existing data will be deleted\\n')"
   ]
  },
  {
   "cell_type": "markdown",
   "id": "a73267e3",
   "metadata": {},
   "source": [
    "Other types of objects need to be converted – either to a string (in text mode) or a bytes object (in binary mode)"
   ]
  },
  {
   "cell_type": "code",
   "execution_count": 21,
   "id": "dad59ed5",
   "metadata": {},
   "outputs": [],
   "source": [
    "f = open('xyz.txt','a')\n",
    "value = ('the answer', 42)\n",
    "s = str(value)    # convert the tuple to string\n",
    "f.write(s)\n",
    "f.close()"
   ]
  },
  {
   "cell_type": "code",
   "execution_count": 36,
   "id": "b005ddc2",
   "metadata": {},
   "outputs": [
    {
     "data": {
      "text/plain": [
       "16"
      ]
     },
     "execution_count": 36,
     "metadata": {},
     "output_type": "execute_result"
    }
   ],
   "source": [
    "f = open('binary.txt', 'wb+')\n",
    "f.write(b'0123456789abcdef')"
   ]
  },
  {
   "cell_type": "code",
   "execution_count": 37,
   "id": "5804bb60",
   "metadata": {},
   "outputs": [
    {
     "data": {
      "text/plain": [
       "5"
      ]
     },
     "execution_count": 37,
     "metadata": {},
     "output_type": "execute_result"
    }
   ],
   "source": [
    "f.seek(5)      # Go to the 6th byte in the file format :seek(offset,whence)"
   ]
  },
  {
   "cell_type": "code",
   "execution_count": 38,
   "id": "8aca4a04",
   "metadata": {},
   "outputs": [
    {
     "data": {
      "text/plain": [
       "b'5'"
      ]
     },
     "execution_count": 38,
     "metadata": {},
     "output_type": "execute_result"
    }
   ],
   "source": [
    "f.read(1)"
   ]
  },
  {
   "cell_type": "code",
   "execution_count": 39,
   "id": "e63939ba",
   "metadata": {},
   "outputs": [
    {
     "data": {
      "text/plain": [
       "9"
      ]
     },
     "execution_count": 39,
     "metadata": {},
     "output_type": "execute_result"
    }
   ],
   "source": [
    "f.seek(3, 1)  # Go to the 3rd byte before the end"
   ]
  },
  {
   "cell_type": "code",
   "execution_count": 40,
   "id": "fd854b06",
   "metadata": {
    "scrolled": false
   },
   "outputs": [
    {
     "data": {
      "text/plain": [
       "b'9'"
      ]
     },
     "execution_count": 40,
     "metadata": {},
     "output_type": "execute_result"
    }
   ],
   "source": [
    "f.read(1)"
   ]
  },
  {
   "cell_type": "code",
   "execution_count": 41,
   "id": "a0a83f61",
   "metadata": {},
   "outputs": [
    {
     "data": {
      "text/plain": [
       "13"
      ]
     },
     "execution_count": 41,
     "metadata": {},
     "output_type": "execute_result"
    }
   ],
   "source": [
    "f.seek(-3,2) "
   ]
  },
  {
   "cell_type": "code",
   "execution_count": 42,
   "id": "7af4238e",
   "metadata": {},
   "outputs": [],
   "source": [
    "f.close()"
   ]
  },
  {
   "cell_type": "markdown",
   "id": "8978f9bd",
   "metadata": {},
   "source": [
    "### Saving structured data with JSON (JavaScript Object Notation)"
   ]
  },
  {
   "cell_type": "code",
   "execution_count": 45,
   "id": "43d7ffed",
   "metadata": {
    "scrolled": true
   },
   "outputs": [
    {
     "data": {
      "text/plain": [
       "'[1, \"simple\", \"list\"]'"
      ]
     },
     "execution_count": 45,
     "metadata": {},
     "output_type": "execute_result"
    }
   ],
   "source": [
    "import json\n",
    "x = [1, 'simple', 'list']\n",
    "json.dumps(x)"
   ]
  },
  {
   "cell_type": "code",
   "execution_count": 47,
   "id": "be7d45f2",
   "metadata": {},
   "outputs": [],
   "source": [
    "#f= open('json_file.json','x')\n",
    "f.close()\n",
    "f = open('json_file.json','r+')"
   ]
  },
  {
   "cell_type": "code",
   "execution_count": 48,
   "id": "c4a6c0a2",
   "metadata": {},
   "outputs": [],
   "source": [
    "json.dump(x,f)"
   ]
  },
  {
   "cell_type": "code",
   "execution_count": 50,
   "id": "7842ed5a",
   "metadata": {
    "scrolled": true
   },
   "outputs": [],
   "source": [
    "#x = json.load(f)"
   ]
  },
  {
   "cell_type": "markdown",
   "id": "f401dce1",
   "metadata": {},
   "source": [
    "# Directory Handling"
   ]
  },
  {
   "cell_type": "code",
   "execution_count": 52,
   "id": "4e834d96",
   "metadata": {},
   "outputs": [
    {
     "name": "stdout",
     "output_type": "stream",
     "text": [
      "E:\\python data\\Techienest python\\Untitled Folder\n",
      "b'E:\\\\python data\\\\Techienest python\\\\Untitled Folder'\n"
     ]
    }
   ],
   "source": [
    "#Get Current Directory\n",
    "\n",
    "import os\n",
    "print(os.getcwd())      #get the present working directory\n",
    "print(os.getcwdb())    #get it as bytes object"
   ]
  },
  {
   "cell_type": "code",
   "execution_count": 53,
   "id": "99e964df",
   "metadata": {},
   "outputs": [],
   "source": [
    "#Changing Directory\n",
    "os.chdir('E:\\python data\\Techienest python')"
   ]
  },
  {
   "cell_type": "code",
   "execution_count": 54,
   "id": "c904e136",
   "metadata": {},
   "outputs": [
    {
     "data": {
      "text/plain": [
       "'E:\\\\python data\\\\Techienest python'"
      ]
     },
     "execution_count": 54,
     "metadata": {},
     "output_type": "execute_result"
    }
   ],
   "source": [
    "os.getcwd()"
   ]
  },
  {
   "cell_type": "code",
   "execution_count": 19,
   "id": "81563279",
   "metadata": {
    "scrolled": true
   },
   "outputs": [
    {
     "data": {
      "text/plain": [
       "['.ipynb_checkpoints',\n",
       " '29-6 datafrom kaggle.py',\n",
       " 'AI',\n",
       " 'Beautifulsoup',\n",
       " 'Folder_subd',\n",
       " 'New_dir',\n",
       " 'selenium folder',\n",
       " 'supermarkets.csv',\n",
       " 'test.txt',\n",
       " 'training',\n",
       " 'Untitled Folder',\n",
       " 'world-happiness-report-2021.csv',\n",
       " 'world-happiness-report.csv']"
      ]
     },
     "execution_count": 19,
     "metadata": {},
     "output_type": "execute_result"
    }
   ],
   "source": [
    "#List Directories and Files\n",
    "os.listdir()        #returns sub-directories and files in currect directory"
   ]
  },
  {
   "cell_type": "code",
   "execution_count": 57,
   "id": "fd57c811",
   "metadata": {},
   "outputs": [
    {
     "ename": "FileNotFoundError",
     "evalue": "[WinError 2] The system cannot find the file specified: 'test.txt' -> 'tested.txt'",
     "output_type": "error",
     "traceback": [
      "\u001b[1;31m---------------------------------------------------------------------------\u001b[0m",
      "\u001b[1;31mFileNotFoundError\u001b[0m                         Traceback (most recent call last)",
      "\u001b[1;32mC:\\Users\\SHRUTI~1\\AppData\\Local\\Temp/ipykernel_37064/1861808996.py\u001b[0m in \u001b[0;36m<module>\u001b[1;34m\u001b[0m\n\u001b[0;32m      1\u001b[0m \u001b[1;31m#Renaming a Directory or a File\u001b[0m\u001b[1;33m\u001b[0m\u001b[1;33m\u001b[0m\u001b[1;33m\u001b[0m\u001b[0m\n\u001b[0;32m      2\u001b[0m \u001b[1;33m\u001b[0m\u001b[0m\n\u001b[1;32m----> 3\u001b[1;33m \u001b[0mos\u001b[0m\u001b[1;33m.\u001b[0m\u001b[0mrename\u001b[0m\u001b[1;33m(\u001b[0m\u001b[1;34m'test.txt'\u001b[0m\u001b[1;33m,\u001b[0m\u001b[1;34m'tested.txt'\u001b[0m\u001b[1;33m)\u001b[0m\u001b[1;33m\u001b[0m\u001b[1;33m\u001b[0m\u001b[0m\n\u001b[0m",
      "\u001b[1;31mFileNotFoundError\u001b[0m: [WinError 2] The system cannot find the file specified: 'test.txt' -> 'tested.txt'"
     ]
    }
   ],
   "source": [
    "#Renaming a Directory or a File\n",
    "\n",
    "os.rename('test.txt','tested.txt')"
   ]
  },
  {
   "cell_type": "code",
   "execution_count": 59,
   "id": "714b017d",
   "metadata": {},
   "outputs": [
    {
     "data": {
      "text/plain": [
       "['.ipynb_checkpoints',\n",
       " '29-6 datafrom kaggle.py',\n",
       " 'AI',\n",
       " 'Beautifulsoup',\n",
       " 'Folder_subd',\n",
       " 'New_dir',\n",
       " 'selenium folder',\n",
       " 'supermarkets.csv',\n",
       " 'tested.pdf',\n",
       " 'training',\n",
       " 'Untitled Folder',\n",
       " 'world-happiness-report-2021.csv',\n",
       " 'world-happiness-report.csv']"
      ]
     },
     "execution_count": 59,
     "metadata": {},
     "output_type": "execute_result"
    }
   ],
   "source": [
    "#Making a New Directory\n",
    "\n",
    "os.mkdir('New_dir')\n",
    "\n",
    "os.listdir()"
   ]
  },
  {
   "cell_type": "code",
   "execution_count": 21,
   "id": "707641ff",
   "metadata": {},
   "outputs": [],
   "source": [
    "#Removing Directory or File\n",
    "#A file can be removed (deleted) using the remove() method.\n",
    "\n",
    "#Similarly, the rmdir() method removes an empty directory.\n",
    "\n",
    "#In order to remove a non-empty directory, we can use the rmtree() method inside the shutil module."
   ]
  },
  {
   "cell_type": "code",
   "execution_count": 22,
   "id": "c38738ae",
   "metadata": {},
   "outputs": [
    {
     "data": {
      "text/plain": [
       "['.ipynb_checkpoints',\n",
       " '29-6 datafrom kaggle.py',\n",
       " 'AI',\n",
       " 'Beautifulsoup',\n",
       " 'Folder_subd',\n",
       " 'New_dir',\n",
       " 'selenium folder',\n",
       " 'supermarkets.csv',\n",
       " 'test.txt',\n",
       " 'training',\n",
       " 'Untitled Folder',\n",
       " 'world-happiness-report-2021.csv',\n",
       " 'world-happiness-report.csv']"
      ]
     },
     "execution_count": 22,
     "metadata": {},
     "output_type": "execute_result"
    }
   ],
   "source": [
    "os.listdir()"
   ]
  },
  {
   "cell_type": "raw",
   "id": "82b25f6f",
   "metadata": {},
   "source": [
    "print(os.listdir())"
   ]
  },
  {
   "cell_type": "code",
   "execution_count": 60,
   "id": "2d0d19f6",
   "metadata": {},
   "outputs": [
    {
     "name": "stdout",
     "output_type": "stream",
     "text": [
      "['.ipynb_checkpoints', '29-6 datafrom kaggle.py', 'AI', 'Beautifulsoup', 'Folder_subd', 'New_dir', 'selenium folder', 'supermarkets.csv', 'training', 'Untitled Folder', 'world-happiness-report-2021.csv', 'world-happiness-report.csv']\n"
     ]
    }
   ],
   "source": [
    "os.remove('tested.pdf')\n",
    "print(os.listdir())"
   ]
  },
  {
   "cell_type": "code",
   "execution_count": 61,
   "id": "a6c35bb6",
   "metadata": {},
   "outputs": [],
   "source": [
    "os.rmdir('New_dir')"
   ]
  },
  {
   "cell_type": "code",
   "execution_count": 62,
   "id": "584f0bf1",
   "metadata": {},
   "outputs": [
    {
     "data": {
      "text/plain": [
       "['.ipynb_checkpoints',\n",
       " '29-6 datafrom kaggle.py',\n",
       " 'AI',\n",
       " 'Beautifulsoup',\n",
       " 'Folder_subd',\n",
       " 'selenium folder',\n",
       " 'supermarkets.csv',\n",
       " 'training',\n",
       " 'Untitled Folder',\n",
       " 'world-happiness-report-2021.csv',\n",
       " 'world-happiness-report.csv']"
      ]
     },
     "execution_count": 62,
     "metadata": {},
     "output_type": "execute_result"
    }
   ],
   "source": [
    "os.listdir()"
   ]
  },
  {
   "cell_type": "code",
   "execution_count": 63,
   "id": "365c85bf",
   "metadata": {},
   "outputs": [
    {
     "ename": "OSError",
     "evalue": "[WinError 145] The directory is not empty: 'Folder_subd'",
     "output_type": "error",
     "traceback": [
      "\u001b[1;31m---------------------------------------------------------------------------\u001b[0m",
      "\u001b[1;31mOSError\u001b[0m                                   Traceback (most recent call last)",
      "\u001b[1;32mC:\\Users\\SHRUTI~1\\AppData\\Local\\Temp/ipykernel_37064/500814250.py\u001b[0m in \u001b[0;36m<module>\u001b[1;34m\u001b[0m\n\u001b[1;32m----> 1\u001b[1;33m \u001b[0mos\u001b[0m\u001b[1;33m.\u001b[0m\u001b[0mrmdir\u001b[0m\u001b[1;33m(\u001b[0m\u001b[1;34m'Folder_subd'\u001b[0m\u001b[1;33m)\u001b[0m\u001b[1;33m\u001b[0m\u001b[1;33m\u001b[0m\u001b[0m\n\u001b[0m",
      "\u001b[1;31mOSError\u001b[0m: [WinError 145] The directory is not empty: 'Folder_subd'"
     ]
    }
   ],
   "source": [
    "os.rmdir('Folder_subd')"
   ]
  },
  {
   "cell_type": "code",
   "execution_count": 64,
   "id": "fe140d92",
   "metadata": {},
   "outputs": [
    {
     "data": {
      "text/plain": [
       "['.ipynb_checkpoints',\n",
       " '29-6 datafrom kaggle.py',\n",
       " 'AI',\n",
       " 'Beautifulsoup',\n",
       " 'selenium folder',\n",
       " 'supermarkets.csv',\n",
       " 'training',\n",
       " 'Untitled Folder',\n",
       " 'world-happiness-report-2021.csv',\n",
       " 'world-happiness-report.csv']"
      ]
     },
     "execution_count": 64,
     "metadata": {},
     "output_type": "execute_result"
    }
   ],
   "source": [
    "import shutil\n",
    "\n",
    "shutil.rmtree('Folder_subd')\n",
    "os.listdir()"
   ]
  },
  {
   "cell_type": "code",
   "execution_count": null,
   "id": "359c9296",
   "metadata": {
    "scrolled": false
   },
   "outputs": [],
   "source": []
  },
  {
   "cell_type": "code",
   "execution_count": null,
   "id": "3ad2ac49",
   "metadata": {},
   "outputs": [],
   "source": []
  }
 ],
 "metadata": {
  "kernelspec": {
   "display_name": "Python 3 (ipykernel)",
   "language": "python",
   "name": "python3"
  },
  "language_info": {
   "codemirror_mode": {
    "name": "ipython",
    "version": 3
   },
   "file_extension": ".py",
   "mimetype": "text/x-python",
   "name": "python",
   "nbconvert_exporter": "python",
   "pygments_lexer": "ipython3",
   "version": "3.9.5"
  }
 },
 "nbformat": 4,
 "nbformat_minor": 5
}
