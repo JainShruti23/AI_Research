{
 "cells": [
  {
   "cell_type": "markdown",
   "id": "57a92db0",
   "metadata": {},
   "source": [
    "# String"
   ]
  },
  {
   "cell_type": "code",
   "execution_count": 1,
   "id": "94be68fd",
   "metadata": {},
   "outputs": [],
   "source": [
    "s1= 'Hello, World'     #Single Line\n",
    "s2 = \"\"\"Hello World.\n",
    "Welcome to Machine Learning and AI course\"\"\"     "
   ]
  },
  {
   "cell_type": "code",
   "execution_count": 2,
   "id": "bd1bc161",
   "metadata": {},
   "outputs": [
    {
     "data": {
      "text/plain": [
       "54"
      ]
     },
     "execution_count": 2,
     "metadata": {},
     "output_type": "execute_result"
    }
   ],
   "source": [
    "len(s2)"
   ]
  },
  {
   "cell_type": "code",
   "execution_count": 3,
   "id": "1c0794ca",
   "metadata": {},
   "outputs": [
    {
     "data": {
      "text/plain": [
       "True"
      ]
     },
     "execution_count": 3,
     "metadata": {},
     "output_type": "execute_result"
    }
   ],
   "source": [
    "\"AI\" in s2   #Membership operator use"
   ]
  },
  {
   "cell_type": "code",
   "execution_count": 4,
   "id": "3e171aa0",
   "metadata": {},
   "outputs": [
    {
     "data": {
      "text/plain": [
       "' '"
      ]
     },
     "execution_count": 4,
     "metadata": {},
     "output_type": "execute_result"
    }
   ],
   "source": [
    "s1[6]             #Accessing data with indexing"
   ]
  },
  {
   "cell_type": "code",
   "execution_count": 5,
   "id": "3288a36b",
   "metadata": {},
   "outputs": [
    {
     "data": {
      "text/plain": [
       "'World.\\nWelcome'"
      ]
     },
     "execution_count": 5,
     "metadata": {},
     "output_type": "execute_result"
    }
   ],
   "source": [
    "s2[6:20]           #Slicing"
   ]
  },
  {
   "cell_type": "code",
   "execution_count": 6,
   "id": "97782b86",
   "metadata": {
    "scrolled": true
   },
   "outputs": [
    {
     "data": {
      "text/plain": [
       "'HELLO, WORLD'"
      ]
     },
     "execution_count": 6,
     "metadata": {},
     "output_type": "execute_result"
    }
   ],
   "source": [
    "s1.upper()         #To Upper case"
   ]
  },
  {
   "cell_type": "code",
   "execution_count": 7,
   "id": "ff661f16",
   "metadata": {
    "scrolled": true
   },
   "outputs": [
    {
     "data": {
      "text/plain": [
       "'hello, world'"
      ]
     },
     "execution_count": 7,
     "metadata": {},
     "output_type": "execute_result"
    }
   ],
   "source": [
    "s1.lower()           #To lower case"
   ]
  },
  {
   "cell_type": "code",
   "execution_count": 8,
   "id": "acc92f5b",
   "metadata": {},
   "outputs": [
    {
     "data": {
      "text/plain": [
       "'Hello, World'"
      ]
     },
     "execution_count": 8,
     "metadata": {},
     "output_type": "execute_result"
    }
   ],
   "source": [
    "s1.title()        #First letter capital"
   ]
  },
  {
   "cell_type": "code",
   "execution_count": 9,
   "id": "f5099d18",
   "metadata": {},
   "outputs": [
    {
     "data": {
      "text/plain": [
       "'Hi, World'"
      ]
     },
     "execution_count": 9,
     "metadata": {},
     "output_type": "execute_result"
    }
   ],
   "source": [
    "s1.replace(\"Hello\",\"Hi\")     #replacing data"
   ]
  },
  {
   "cell_type": "code",
   "execution_count": 10,
   "id": "4e8d5a1b",
   "metadata": {},
   "outputs": [
    {
     "data": {
      "text/plain": [
       "'Hi Space'"
      ]
     },
     "execution_count": 10,
     "metadata": {},
     "output_type": "execute_result"
    }
   ],
   "source": [
    "s3=\"          Hi Space\"\n",
    "s3.strip()          #Removes whitespace before and after sentence"
   ]
  },
  {
   "cell_type": "code",
   "execution_count": null,
   "id": "228fe04f",
   "metadata": {},
   "outputs": [],
   "source": [
    "s1.split(\",\")       #returns list of words separated by ','"
   ]
  },
  {
   "cell_type": "markdown",
   "id": "3ba7355c",
   "metadata": {},
   "source": [
    "### Concatenation"
   ]
  },
  {
   "cell_type": "code",
   "execution_count": 36,
   "id": "ecda241b",
   "metadata": {},
   "outputs": [
    {
     "data": {
      "text/plain": [
       "'Hello, WorldHi Space'"
      ]
     },
     "execution_count": 36,
     "metadata": {},
     "output_type": "execute_result"
    }
   ],
   "source": [
    "s1+s3.strip()"
   ]
  },
  {
   "cell_type": "code",
   "execution_count": 37,
   "id": "cca74812",
   "metadata": {},
   "outputs": [
    {
     "data": {
      "text/plain": [
       "'Hello, World Hi Space'"
      ]
     },
     "execution_count": 37,
     "metadata": {},
     "output_type": "execute_result"
    }
   ],
   "source": [
    "s1+\" \"+s3.strip()"
   ]
  },
  {
   "cell_type": "markdown",
   "id": "3cf43b33",
   "metadata": {},
   "source": [
    "### String Format"
   ]
  },
  {
   "cell_type": "code",
   "execution_count": 10,
   "id": "18b078f0",
   "metadata": {},
   "outputs": [
    {
     "name": "stdout",
     "output_type": "stream",
     "text": [
      "Enter your name: Shruti Jain\n",
      "Enter your age: 20\n",
      "My name is Shruti Jain, and I am 20 yrs old\n",
      "I am 20 yrs old, and my name is Shruti Jain\n"
     ]
    }
   ],
   "source": [
    "# format method \n",
    "name = input(\"Enter your name: \")\n",
    "age = input(\"Enter your age: \")\n",
    "print(\"My name is {}, and I am {} yrs old\".format(name,age))\n",
    "print(\"I am {1} yrs old, and my name is {0}\".format(name,age)) #changed indexing"
   ]
  },
  {
   "cell_type": "code",
   "execution_count": null,
   "id": "4c32963e",
   "metadata": {},
   "outputs": [],
   "source": [
    "# Formatting of Integers\n",
    "String1 = \"{0:b}\".format(16)\n",
    "print(\"\\nBinary representation of 16 is: \",String1)\n",
    "  \n",
    "# Formatting of Floats\n",
    "String1 = \"{0:e}\".format(165.6458)\n",
    "print(\"\\nExponent representation of 165.6458 is: \",String1)\n",
    "\n",
    "# Rounding off Integers\n",
    "String1 = \"{0:.2f}\".format(1/6)\n",
    "print(\"\\none-sixth is: \",String1)\n",
    "print(String1)"
   ]
  },
  {
   "cell_type": "code",
   "execution_count": null,
   "id": "a5535490",
   "metadata": {},
   "outputs": [],
   "source": []
  },
  {
   "cell_type": "code",
   "execution_count": null,
   "id": "ad44b1aa",
   "metadata": {},
   "outputs": [],
   "source": []
  },
  {
   "cell_type": "code",
   "execution_count": null,
   "id": "dc9b3a06",
   "metadata": {},
   "outputs": [],
   "source": []
  },
  {
   "cell_type": "code",
   "execution_count": null,
   "id": "e99a0062",
   "metadata": {},
   "outputs": [],
   "source": []
  },
  {
   "cell_type": "markdown",
   "id": "427d1564",
   "metadata": {},
   "source": [
    "# Dictionary\n",
    "A dictionary is a collection which is ordered*, changeable and does not allow duplicates."
   ]
  },
  {
   "cell_type": "code",
   "execution_count": 11,
   "id": "310f7a79",
   "metadata": {},
   "outputs": [
    {
     "data": {
      "text/plain": [
       "{'Name': 'Shruti Jain',\n",
       " 'Subject': ['Python', 'ML', 'AI'],\n",
       " 'Class': 'B.Tech MT'}"
      ]
     },
     "execution_count": 11,
     "metadata": {},
     "output_type": "execute_result"
    }
   ],
   "source": [
    "dict1 = {'Name':\"Shruti Jain\", 'Subject':[\"Python\",\"ML\",\"AI\"], 'Class':'B.Tech MT'}\n",
    "dict1"
   ]
  },
  {
   "cell_type": "code",
   "execution_count": 12,
   "id": "2debde48",
   "metadata": {},
   "outputs": [
    {
     "name": "stdout",
     "output_type": "stream",
     "text": [
      "Shruti Jain\n",
      "['Python', 'ML', 'AI']\n"
     ]
    }
   ],
   "source": [
    "#Access value of key\n",
    "print(dict1['Name'])            #1\n",
    "print(dict1.get('Subject'))     #2"
   ]
  },
  {
   "cell_type": "code",
   "execution_count": 13,
   "id": "0a0d293d",
   "metadata": {},
   "outputs": [
    {
     "data": {
      "text/plain": [
       "3"
      ]
     },
     "execution_count": 13,
     "metadata": {},
     "output_type": "execute_result"
    }
   ],
   "source": [
    "len(dict1)        #length of list"
   ]
  },
  {
   "cell_type": "markdown",
   "id": "c94874b3",
   "metadata": {},
   "source": [
    "### To add new item"
   ]
  },
  {
   "cell_type": "code",
   "execution_count": 14,
   "id": "69cf05e6",
   "metadata": {},
   "outputs": [],
   "source": [
    "dict1['Age'] = 20"
   ]
  },
  {
   "cell_type": "code",
   "execution_count": 15,
   "id": "cc545973",
   "metadata": {},
   "outputs": [
    {
     "data": {
      "text/plain": [
       "{'Name': 'Shruti Jain',\n",
       " 'Subject': ['Python', 'ML', 'AI'],\n",
       " 'Class': 'B.Tech MT',\n",
       " 'Age': 20}"
      ]
     },
     "execution_count": 15,
     "metadata": {},
     "output_type": "execute_result"
    }
   ],
   "source": [
    "dict1"
   ]
  },
  {
   "cell_type": "markdown",
   "id": "8b9daa36",
   "metadata": {},
   "source": [
    "### Accessing items"
   ]
  },
  {
   "cell_type": "code",
   "execution_count": 16,
   "id": "eea697ab",
   "metadata": {},
   "outputs": [
    {
     "data": {
      "text/plain": [
       "dict_items([('Name', 'Shruti Jain'), ('Subject', ['Python', 'ML', 'AI']), ('Class', 'B.Tech MT'), ('Age', 20)])"
      ]
     },
     "execution_count": 16,
     "metadata": {},
     "output_type": "execute_result"
    }
   ],
   "source": [
    "dict1.items()"
   ]
  },
  {
   "cell_type": "code",
   "execution_count": 17,
   "id": "c9b4861d",
   "metadata": {},
   "outputs": [
    {
     "data": {
      "text/plain": [
       "dict_keys(['Name', 'Subject', 'Class', 'Age'])"
      ]
     },
     "execution_count": 17,
     "metadata": {},
     "output_type": "execute_result"
    }
   ],
   "source": [
    "dict1.keys()     #returns all key names"
   ]
  },
  {
   "cell_type": "code",
   "execution_count": 18,
   "id": "6ed3786e",
   "metadata": {},
   "outputs": [
    {
     "data": {
      "text/plain": [
       "dict_values(['Shruti Jain', ['Python', 'ML', 'AI'], 'B.Tech MT', 20])"
      ]
     },
     "execution_count": 18,
     "metadata": {},
     "output_type": "execute_result"
    }
   ],
   "source": [
    "dict1.values()"
   ]
  },
  {
   "cell_type": "markdown",
   "id": "a4fd51ba",
   "metadata": {},
   "source": [
    "### Checking if key exist"
   ]
  },
  {
   "cell_type": "code",
   "execution_count": 19,
   "id": "8f132fd1",
   "metadata": {},
   "outputs": [
    {
     "data": {
      "text/plain": [
       "True"
      ]
     },
     "execution_count": 19,
     "metadata": {},
     "output_type": "execute_result"
    }
   ],
   "source": [
    "'Age' in dict1      #Membership operator"
   ]
  },
  {
   "cell_type": "markdown",
   "id": "ffa3585f",
   "metadata": {},
   "source": [
    "### Updating Dictionary"
   ]
  },
  {
   "cell_type": "code",
   "execution_count": 20,
   "id": "15634579",
   "metadata": {},
   "outputs": [],
   "source": [
    "dict1.update({\"Age\":21})         #update a value"
   ]
  },
  {
   "cell_type": "code",
   "execution_count": 21,
   "id": "4a6ca002",
   "metadata": {},
   "outputs": [
    {
     "data": {
      "text/plain": [
       "{'Name': 'Shruti Jain',\n",
       " 'Subject': ['Python', 'ML', 'AI'],\n",
       " 'Class': 'B.Tech MT',\n",
       " 'Age': 21,\n",
       " 'YOP': 2022}"
      ]
     },
     "execution_count": 21,
     "metadata": {},
     "output_type": "execute_result"
    }
   ],
   "source": [
    "dict1.update({\"YOP\":2022})       #also add new item\n",
    "dict1"
   ]
  },
  {
   "cell_type": "code",
   "execution_count": 22,
   "id": "413e4db5",
   "metadata": {},
   "outputs": [
    {
     "data": {
      "text/plain": [
       "{'Name': 'Shruti Jain',\n",
       " 'Subject': ['Python', 'ML', 'C++'],\n",
       " 'Class': 'B.Tech MT',\n",
       " 'Age': 21,\n",
       " 'YOP': 2022}"
      ]
     },
     "execution_count": 22,
     "metadata": {},
     "output_type": "execute_result"
    }
   ],
   "source": [
    "dict1['Subject'][2]=\"C++\"       #updating value in list\n",
    "dict1"
   ]
  },
  {
   "cell_type": "code",
   "execution_count": 23,
   "id": "19dee814",
   "metadata": {},
   "outputs": [
    {
     "data": {
      "text/plain": [
       "{'Name': 'Shruti Jain',\n",
       " 'Subject': ['Python', 'ML', 'C++', 'AI', 'Solidworks'],\n",
       " 'Class': 'B.Tech MT',\n",
       " 'Age': 21,\n",
       " 'YOP': 2022}"
      ]
     },
     "execution_count": 23,
     "metadata": {},
     "output_type": "execute_result"
    }
   ],
   "source": [
    "dict1['Subject'].extend(['AI','Solidworks'])    #extending list value\n",
    "dict1"
   ]
  },
  {
   "cell_type": "code",
   "execution_count": 24,
   "id": "5e59adf7",
   "metadata": {},
   "outputs": [
    {
     "data": {
      "text/plain": [
       "{'Name': 'Shruti Jain',\n",
       " 'Subject': ['Python', 'ML', 'C++', 'AI', 'Solidworks'],\n",
       " 'Class': 'B.Tech MT',\n",
       " 'Age': 21,\n",
       " 'YOP': 2022}"
      ]
     },
     "execution_count": 24,
     "metadata": {},
     "output_type": "execute_result"
    }
   ],
   "source": [
    "dict1.setdefault('Age',23)     #Value remain same if already defined, otherwise new item added\n",
    "dict1"
   ]
  },
  {
   "cell_type": "markdown",
   "id": "e4303a25",
   "metadata": {},
   "source": [
    "### Removing Items"
   ]
  },
  {
   "cell_type": "code",
   "execution_count": 25,
   "id": "fda89a55",
   "metadata": {},
   "outputs": [
    {
     "data": {
      "text/plain": [
       "{'Name': 'Shruti Jain',\n",
       " 'Subject': ['Python', 'ML', 'C++', 'AI', 'Solidworks'],\n",
       " 'Age': 21,\n",
       " 'YOP': 2022}"
      ]
     },
     "execution_count": 25,
     "metadata": {},
     "output_type": "execute_result"
    }
   ],
   "source": [
    "dict1.pop(\"Class\")   #removes and return the item with the specified key name\n",
    "dict1"
   ]
  },
  {
   "cell_type": "code",
   "execution_count": 26,
   "id": "26e459ce",
   "metadata": {},
   "outputs": [
    {
     "data": {
      "text/plain": [
       "dict"
      ]
     },
     "execution_count": 26,
     "metadata": {},
     "output_type": "execute_result"
    }
   ],
   "source": [
    "dict"
   ]
  },
  {
   "cell_type": "code",
   "execution_count": 27,
   "id": "a571e572",
   "metadata": {},
   "outputs": [
    {
     "data": {
      "text/plain": [
       "('YOP', 2022)"
      ]
     },
     "execution_count": 27,
     "metadata": {},
     "output_type": "execute_result"
    }
   ],
   "source": [
    "dict1.popitem()        #removes the last inserted item"
   ]
  },
  {
   "cell_type": "code",
   "execution_count": 28,
   "id": "eff34aa0",
   "metadata": {},
   "outputs": [
    {
     "data": {
      "text/plain": [
       "{'Name': 'Sneha', 'Subject': ['Java', 'ML', 'DSA'], 'Class': 'B.Tech CS'}"
      ]
     },
     "execution_count": 28,
     "metadata": {},
     "output_type": "execute_result"
    }
   ],
   "source": [
    "dict2 = {'Name':'Sneha', 'Subject':['Java','ML','DSA'],'Class':'B.Tech CS'}\n",
    "dict2"
   ]
  },
  {
   "cell_type": "code",
   "execution_count": 29,
   "id": "b637adcf",
   "metadata": {},
   "outputs": [
    {
     "data": {
      "text/plain": [
       "{}"
      ]
     },
     "execution_count": 29,
     "metadata": {},
     "output_type": "execute_result"
    }
   ],
   "source": [
    "dict2.clear()       #Clear whole dictionary\n",
    "dict2"
   ]
  },
  {
   "cell_type": "code",
   "execution_count": 30,
   "id": "d762dcd6",
   "metadata": {},
   "outputs": [],
   "source": [
    "del dict2           #Delete whole dictionary"
   ]
  },
  {
   "cell_type": "markdown",
   "id": "1d40d928",
   "metadata": {},
   "source": [
    "### Copy a Dictionary"
   ]
  },
  {
   "cell_type": "code",
   "execution_count": 31,
   "id": "56965d34",
   "metadata": {},
   "outputs": [],
   "source": [
    "dict2 = dict1    #this will create a alias of dict1, not copy\n",
    "dict3 = dict1.copy()    #this will make a copy of dict1"
   ]
  },
  {
   "cell_type": "code",
   "execution_count": 32,
   "id": "a707d4a5",
   "metadata": {},
   "outputs": [
    {
     "data": {
      "text/plain": [
       "{'Name': 'Shruti Jain',\n",
       " 'Subject': ['Python', 'ML', 'C++', 'AI', 'Solidworks'],\n",
       " 'Age': 21,\n",
       " 'Internship': 'Techienest'}"
      ]
     },
     "execution_count": 32,
     "metadata": {},
     "output_type": "execute_result"
    }
   ],
   "source": [
    "dict1.update({'Internship':'Techienest'})    #updating dict1\n",
    "dict2         #Automatic update as dict1 is updated"
   ]
  },
  {
   "cell_type": "code",
   "execution_count": 33,
   "id": "0e5e7ed5",
   "metadata": {},
   "outputs": [
    {
     "data": {
      "text/plain": [
       "{'Name': 'Shruti Jain',\n",
       " 'Subject': ['Python', 'ML', 'C++', 'AI', 'Solidworks'],\n",
       " 'Age': 21}"
      ]
     },
     "execution_count": 33,
     "metadata": {},
     "output_type": "execute_result"
    }
   ],
   "source": [
    "dict3    #not updated with dict1"
   ]
  },
  {
   "cell_type": "markdown",
   "id": "dd243032",
   "metadata": {},
   "source": [
    "### Nested Dictionary"
   ]
  },
  {
   "cell_type": "code",
   "execution_count": 34,
   "id": "ebd17200",
   "metadata": {},
   "outputs": [],
   "source": [
    "student1 = {\n",
    "  \"name\" : \"Monica\",\n",
    "  \"year\" : 2000\n",
    "}\n",
    "student2 = {\n",
    "  \"name\" : \"Chandler\",\n",
    "  \"year\" : 2001\n",
    "}\n",
    "student3 = {\n",
    "  \"name\" : \"Joey\",\n",
    "  \"year\" : 2001\n",
    "}\n",
    "\n",
    "classroom = { \"student1\" : student1,\n",
    "  \"student2\" : student2,\n",
    "  \"student3\" : student3\n",
    "}"
   ]
  }
 ],
 "metadata": {
  "kernelspec": {
   "display_name": "Python 3 (ipykernel)",
   "language": "python",
   "name": "python3"
  },
  "language_info": {
   "codemirror_mode": {
    "name": "ipython",
    "version": 3
   },
   "file_extension": ".py",
   "mimetype": "text/x-python",
   "name": "python",
   "nbconvert_exporter": "python",
   "pygments_lexer": "ipython3",
   "version": "3.9.5"
  }
 },
 "nbformat": 4,
 "nbformat_minor": 5
}
